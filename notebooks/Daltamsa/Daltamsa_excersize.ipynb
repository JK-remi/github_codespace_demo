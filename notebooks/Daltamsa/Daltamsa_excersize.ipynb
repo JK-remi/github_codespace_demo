{
 "cells": [
  {
   "cell_type": "markdown",
   "metadata": {},
   "source": [
    "# 데이터 수집"
   ]
  },
  {
   "cell_type": "code",
   "execution_count": null,
   "metadata": {},
   "outputs": [],
   "source": [
    "import pandas as pd"
   ]
  },
  {
   "cell_type": "code",
   "execution_count": null,
   "metadata": {},
   "outputs": [],
   "source": [
    "rock_samples = pd.read_csv('/workspaces/github_codespace_demo/data/rocksamples.csv')    #절대경로\n",
    "#rock_samples = pd.read_csv('../data/rocksamples.csv')                                  #상대경로(동작 안 됨)\n",
    "#디렉토리가 한 단계 아래에 있기 때문에 notebook에서 data찾으므로 오류가 남(../../ 필요)"
   ]
  },
  {
   "cell_type": "code",
   "execution_count": null,
   "metadata": {},
   "outputs": [],
   "source": [
    "rock_samples.head()"
   ]
  },
  {
   "cell_type": "code",
   "execution_count": null,
   "metadata": {},
   "outputs": [],
   "source": [
    "rock_samples.tail()"
   ]
  },
  {
   "cell_type": "code",
   "execution_count": null,
   "metadata": {},
   "outputs": [],
   "source": [
    "rock_samples.info()"
   ]
  },
  {
   "cell_type": "code",
   "execution_count": null,
   "metadata": {},
   "outputs": [],
   "source": [
    "rock_samples.shape      #dataframe's row & column"
   ]
  },
  {
   "cell_type": "code",
   "execution_count": null,
   "metadata": {},
   "outputs": [],
   "source": [
    "rock_samples.shape[0]   #dataframe row  "
   ]
  },
  {
   "cell_type": "code",
   "execution_count": null,
   "metadata": {},
   "outputs": [],
   "source": [
    "rock_samples.shape[1]   #dataframe column"
   ]
  },
  {
   "cell_type": "code",
   "execution_count": null,
   "metadata": {},
   "outputs": [],
   "source": [
    "rock_samples.index      #dataframe index"
   ]
  },
  {
   "cell_type": "code",
   "execution_count": null,
   "metadata": {},
   "outputs": [],
   "source": [
    "rock_samples.columns    #dataframe column name"
   ]
  },
  {
   "cell_type": "code",
   "execution_count": null,
   "metadata": {},
   "outputs": [],
   "source": [
    "rock_samples.dtypes     #dataframe data type(each column)"
   ]
  },
  {
   "cell_type": "code",
   "execution_count": null,
   "metadata": {},
   "outputs": [],
   "source": [
    "rock_samples.describe() #dataframe data summary"
   ]
  },
  {
   "cell_type": "markdown",
   "metadata": {},
   "source": [
    "## 누락값 검사"
   ]
  },
  {
   "cell_type": "code",
   "execution_count": null,
   "metadata": {},
   "outputs": [],
   "source": [
    "rock_samples.isnull()   #step1. find null value in dataframe"
   ]
  },
  {
   "cell_type": "code",
   "execution_count": null,
   "metadata": {},
   "outputs": [],
   "source": [
    "rock_samples.isnull().sum() #step2. sum each column value(false:0, true:1)"
   ]
  },
  {
   "cell_type": "markdown",
   "metadata": {},
   "source": [
    "# 데이터 가공"
   ]
  },
  {
   "cell_type": "code",
   "execution_count": null,
   "metadata": {},
   "outputs": [],
   "source": [
    "sample_series = rock_samples['Weight (g)'] \n",
    "sample_series"
   ]
  },
  {
   "cell_type": "code",
   "execution_count": null,
   "metadata": {},
   "outputs": [],
   "source": [
    "sample_dataframe = rock_samples[['Type', 'Weight (g)']]\n",
    "sample_dataframe"
   ]
  },
  {
   "cell_type": "code",
   "execution_count": null,
   "metadata": {},
   "outputs": [],
   "source": [
    "# step1. change column value (weinght (g->kg))\n",
    "rock_samples['Weight (g)'] = sample_series.apply(lambda x : x * 0.001)\n",
    "rock_samples['Weight (g)']"
   ]
  },
  {
   "cell_type": "code",
   "execution_count": null,
   "metadata": {},
   "outputs": [],
   "source": [
    "# step2. rename column(Weight(g)->Weight(kg))\n",
    "rock_samples.rename(columns={'Weight (g)':'Weight (kg)'}, inplace=True)\n",
    "rock_samples"
   ]
  },
  {
   "cell_type": "markdown",
   "metadata": {},
   "source": [
    "## mission별 data frame 만들기"
   ]
  },
  {
   "cell_type": "code",
   "execution_count": null,
   "metadata": {},
   "outputs": [],
   "source": [
    "# make empty dataframe and assign to 'missions'\n",
    "missions = pd.DataFrame()\n",
    "type(missions)"
   ]
  },
  {
   "cell_type": "code",
   "execution_count": null,
   "metadata": {},
   "outputs": [],
   "source": [
    "# make new column in missions\n",
    "missions['Mission'] = rock_samples['Mission'].unique()\n",
    "missions"
   ]
  },
  {
   "cell_type": "markdown",
   "metadata": {},
   "source": [
    "## mission별 weight 합계: group by"
   ]
  },
  {
   "cell_type": "code",
   "execution_count": null,
   "metadata": {},
   "outputs": [],
   "source": [
    "# divide dataframe(rock_samples) by 'Mission'(column) => groupby()\n",
    "# sum each mission's weight. => sum()\n",
    "# return value is [series]\n",
    "total_weight = rock_samples.groupby('Mission')['Weight (kg)'].sum()\n",
    "total_weight"
   ]
  },
  {
   "cell_type": "code",
   "execution_count": null,
   "metadata": {},
   "outputs": [],
   "source": [
    "# merge to missions (dataframe - series)\n",
    "missions = pd.merge(missions, total_weight, on='Mission')\n",
    "# rename column\n",
    "missions.rename(columns={'Weight (kg)':'Sample Weight(kg)'}, inplace=True)\n",
    "missions"
   ]
  },
  {
   "cell_type": "markdown",
   "metadata": {},
   "source": [
    "## mission간 중량 차: diff(), filna()"
   ]
  },
  {
   "cell_type": "code",
   "execution_count": null,
   "metadata": {},
   "outputs": [],
   "source": [
    "# calculate difference \n",
    "missions['Weight diff'] = missions['Sample Weight(kg)'].diff()\n",
    "missions"
   ]
  },
  {
   "cell_type": "code",
   "execution_count": null,
   "metadata": {},
   "outputs": [],
   "source": [
    "# replace NaN to 0\n",
    "missions.fillna(value=0, inplace=True)\n",
    "missions"
   ]
  },
  {
   "cell_type": "markdown",
   "metadata": {},
   "source": [
    "## add spaceship data"
   ]
  },
  {
   "cell_type": "code",
   "execution_count": null,
   "metadata": {},
   "outputs": [],
   "source": [
    "# 달 탐사선 = lunar module + command module = crewed area"
   ]
  },
  {
   "cell_type": "code",
   "execution_count": null,
   "metadata": {},
   "outputs": [],
   "source": [
    "# add lunar module data\n",
    "missions['Lunar module(LM)'] = ['Eagle (LM-5)', 'Interpid (LM-6)', 'Antares (LM-8)', 'Falcon (LM-10)', 'Orion (LM-11)', 'Challenger (LM-12)']\n",
    "missions['LM mass(kg)'] = [15103, 15235, 15264, 16430, 16445, 16456]\n",
    "missions['LM mass diff'] = missions['LM mass(kg)'].diff()\n",
    "missions.fillna(value=0, inplace=True)\n",
    "missions"
   ]
  },
  {
   "cell_type": "code",
   "execution_count": null,
   "metadata": {},
   "outputs": [],
   "source": [
    "# add command module data\n",
    "missions['Command module(CM)'] = ['Columbia (CSM-107)', 'Yankee Clipper (CSM-108)', 'Kitty Hawk (CSM-110)', 'Endeavor (CSM-112)', 'Casper (CSM-113)', 'America (CSM-114)']\n",
    "missions['CM mass(kg)'] = [5560, 5609, 5758, 5875, 5840, 5960]\n",
    "missions['CM mass diff'] = missions['CM mass(kg)'].diff()\n",
    "missions.fillna(value=0, inplace=True)\n",
    "missions"
   ]
  },
  {
   "cell_type": "code",
   "execution_count": null,
   "metadata": {},
   "outputs": [],
   "source": [
    "# add crewed area data\n",
    "missions['Total weight(kg)'] = missions['LM mass(kg)'] + missions['CM mass(kg)']\n",
    "missions['Total weight diff'] = missions['LM mass diff'] + missions['CM mass diff']\n",
    "missions"
   ]
  },
  {
   "cell_type": "code",
   "execution_count": null,
   "metadata": {},
   "outputs": [],
   "source": [
    "# add payload data (payload=loaded stuffs total weight at spaceship)\n",
    "saturnVPayload = 43500\n",
    "# ratio about crewed area by payload\n",
    "missions['Crewd area : Payload'] = missions['Total weight(kg)'] / saturnVPayload\n",
    "# ratio about sample by crewed area\n",
    "missions['Sample : Crewed area'] = missions['Sample Weight(kg)'] / missions['Total weight(kg)']\n",
    "# ratio about sample by payload\n",
    "missions['Sample : Payload'] = missions['Sample Weight(kg)'] / saturnVPayload\n",
    "missions"
   ]
  },
  {
   "cell_type": "markdown",
   "metadata": {},
   "source": [
    "# 데이터 분석"
   ]
  },
  {
   "cell_type": "markdown",
   "metadata": {},
   "source": [
    "## atemis_mission dataframe"
   ]
  },
  {
   "cell_type": "code",
   "execution_count": null,
   "metadata": {},
   "outputs": [],
   "source": [
    "artemis_crewdArea = 26520\n",
    "\n",
    "# input at dictionary\n",
    "artemis_dic = {'Mission':['artemis1', 'artemis1b', 'artemis2'],\n",
    "                'Total weight(kg)':[artemis_crewdArea, artemis_crewdArea, artemis_crewdArea],\n",
    "                'Payload(kg)':[26988, 37965, 42955]}\n",
    "# make dataframe by dictionary\n",
    "artemis_mission = pd.DataFrame(artemis_dic)\n",
    "artemis_mission"
   ]
  },
  {
   "cell_type": "markdown",
   "metadata": {},
   "source": [
    "## estimate sample weight"
   ]
  },
  {
   "cell_type": "code",
   "execution_count": null,
   "metadata": {},
   "outputs": [],
   "source": [
    "# calculate average each ratio\n",
    "crewedArea_payload_ratio = missions['Crewd area : Payload'].mean()\n",
    "sample_crewedArea_ratio = missions['Sample : Crewed area'].mean()\n",
    "sample_payload_ratio = missions['Sample : Payload'].mean()"
   ]
  },
  {
   "cell_type": "code",
   "execution_count": null,
   "metadata": {},
   "outputs": [],
   "source": [
    "# input expected sample weight\n",
    "artemis_mission['Sample weight from total(kg)'] = artemis_mission['Total weight(kg)'] * sample_crewedArea_ratio\n",
    "artemis_mission['Sample weight from payload(kg)'] = artemis_mission['Payload(kg)'] * sample_payload_ratio\n",
    "artemis_mission"
   ]
  },
  {
   "cell_type": "code",
   "execution_count": null,
   "metadata": {},
   "outputs": [],
   "source": [
    "# input estimated sample weight\n",
    "artemis_mission['Estimated sample weight(kg)'] = (artemis_mission['Sample weight from payload(kg)'] + artemis_mission['Sample weight from total(kg)'])/2\n",
    "artemis_mission"
   ]
  },
  {
   "cell_type": "markdown",
   "metadata": {},
   "source": [
    "## guess small amount rocks"
   ]
  },
  {
   "cell_type": "code",
   "execution_count": null,
   "metadata": {},
   "outputs": [],
   "source": [
    "# 남은 양을 rock_samples의 Remiaining(kg)에 저장\n",
    "rock_samples['Remaining(kg)'] = rock_samples['Weight (kg)'] * rock_samples['Pristine (%)'] * 0.01\n",
    "rock_samples"
   ]
  },
  {
   "cell_type": "code",
   "execution_count": null,
   "metadata": {},
   "outputs": [],
   "source": [
    "# priority of rock samples(with remain amount)\n",
    "rock_samples.describe() "
   ]
  },
  {
   "cell_type": "code",
   "execution_count": null,
   "metadata": {},
   "outputs": [],
   "source": [
    "# 0.16kg 이상 && 50% 이하 remain을 low_samples에 할당\n",
    "# 각 조건에 괄호 필요??\n",
    "low_samples = rock_samples.loc[(rock_samples['Weight (kg)'] >= 0.16) & (rock_samples['Pristine (%)'] <= 50)]\n",
    "low_samples"
   ]
  },
  {
   "cell_type": "code",
   "execution_count": null,
   "metadata": {},
   "outputs": [],
   "source": [
    "low_samples.info()"
   ]
  },
  {
   "cell_type": "code",
   "execution_count": null,
   "metadata": {},
   "outputs": [],
   "source": [
    "# count each type of rock samples\n",
    "low_samples.groupby('Type')['ID'].count()"
   ]
  },
  {
   "cell_type": "markdown",
   "metadata": {},
   "source": [
    "## guess needed sample(type of rocks)"
   ]
  },
  {
   "cell_type": "code",
   "execution_count": null,
   "metadata": {},
   "outputs": [],
   "source": [
    "# seperate about 'Basalt'&'Breccia'\n",
    "needed_samples = low_samples.loc[low_samples['Type'].isin(['Basalt', 'Breccia'])]\n",
    "needed_samples"
   ]
  },
  {
   "cell_type": "code",
   "execution_count": null,
   "metadata": {},
   "outputs": [],
   "source": [
    "needed_samples.info()"
   ]
  },
  {
   "cell_type": "code",
   "execution_count": null,
   "metadata": {},
   "outputs": [],
   "source": [
    "# calculate needed amount about rock samples\n",
    "needed_samples.groupby('Type')['Weight (kg)'].sum()"
   ]
  },
  {
   "cell_type": "markdown",
   "metadata": {},
   "source": [
    "## guess uncollected rocks (add to needed_samples)"
   ]
  },
  {
   "cell_type": "code",
   "execution_count": null,
   "metadata": {},
   "outputs": [],
   "source": [
    "# sum rock_samples by type (guess uncollected samples)\n",
    "rock_samples.groupby('Type')['Weight (kg)'].sum()"
   ]
  },
  {
   "cell_type": "code",
   "execution_count": null,
   "metadata": {},
   "outputs": [],
   "source": [
    "# add crustal data at needed_samples\n",
    "needed_samples = pd.concat([needed_samples, rock_samples.loc[rock_samples['Type'] == 'Crustal']])\n",
    "needed_samples"
   ]
  },
  {
   "cell_type": "code",
   "execution_count": null,
   "metadata": {},
   "outputs": [],
   "source": [
    "needed_samples.info()"
   ]
  },
  {
   "cell_type": "markdown",
   "metadata": {},
   "source": [
    "# 시각화 및 탐색"
   ]
  },
  {
   "cell_type": "markdown",
   "metadata": {},
   "source": [
    "## make dataframe overview (result)"
   ]
  },
  {
   "cell_type": "code",
   "execution_count": null,
   "metadata": {},
   "outputs": [],
   "source": [
    "# make df overview with needed_samples' type(unique)\n",
    "overview = pd.DataFrame(needed_samples['Type'].unique(), columns=['Type'])\n",
    "overview"
   ]
  },
  {
   "cell_type": "markdown",
   "metadata": {},
   "source": [
    "## calculate needed samples weight"
   ]
  },
  {
   "cell_type": "code",
   "execution_count": null,
   "metadata": {},
   "outputs": [],
   "source": [
    "# calculate each rocks weight\n",
    "needed_samples_weight = needed_samples.groupby('Type')['Weight (kg)'].sum().reset_index()   # reset_indes: series -> dataframe\n",
    "needed_samples_weight"
   ]
  },
  {
   "cell_type": "code",
   "execution_count": null,
   "metadata": {},
   "outputs": [],
   "source": [
    "overview = pd.merge(overview, needed_samples_weight, on='Type')\n",
    "overview"
   ]
  },
  {
   "cell_type": "code",
   "execution_count": null,
   "metadata": {},
   "outputs": [],
   "source": [
    "# rename 'Weight (kg)' to 'Total weight(kg)'\n",
    "overview.rename(columns={'Weight (kg)':'Total weight(kg)'}, inplace=True)\n",
    "overview"
   ]
  },
  {
   "cell_type": "markdown",
   "metadata": {},
   "source": [
    "## calcuate average weight"
   ]
  },
  {
   "cell_type": "code",
   "execution_count": null,
   "metadata": {},
   "outputs": [],
   "source": [
    "# calculate average weight about each samples type\n",
    "needed_samples_average = needed_samples.groupby('Type')['Weight (kg)'].mean().reset_index()\n",
    "needed_samples_average"
   ]
  },
  {
   "cell_type": "code",
   "execution_count": null,
   "metadata": {},
   "outputs": [],
   "source": [
    "overview = pd.merge(overview, needed_samples_average, on='Type')\n",
    "overview.rename(columns={'Weight (kg)':'Average weight(kg)'}, inplace=True)\n",
    "overview"
   ]
  },
  {
   "cell_type": "markdown",
   "metadata": {},
   "source": [
    "## count amount of each samples"
   ]
  },
  {
   "cell_type": "code",
   "execution_count": null,
   "metadata": {},
   "outputs": [],
   "source": [
    "# count each samples by type\n",
    "total_rock_count = rock_samples.groupby('Type')['ID'].count().reset_index()\n",
    "total_rock_count.rename(columns={'ID':'Num of rocks'}, inplace=True)\n",
    "total_rock_count"
   ]
  },
  {
   "cell_type": "code",
   "execution_count": null,
   "metadata": {},
   "outputs": [],
   "source": [
    "# merge to overview\n",
    "overview = pd.merge(overview, total_rock_count, on='Type')\n",
    "overview"
   ]
  },
  {
   "cell_type": "markdown",
   "metadata": {},
   "source": [
    "## calculate ratio about rocks"
   ]
  },
  {
   "cell_type": "code",
   "execution_count": null,
   "metadata": {},
   "outputs": [],
   "source": [
    "# total amount of needed rocks\n",
    "total_rocks = overview['Num of rocks'].sum()\n",
    "total_rocks"
   ]
  },
  {
   "cell_type": "code",
   "execution_count": null,
   "metadata": {},
   "outputs": [],
   "source": [
    "overview['Percentage of rocks'] = overview['Num of rocks'] / total_rocks\n",
    "overview"
   ]
  },
  {
   "cell_type": "markdown",
   "metadata": {},
   "source": [
    "## estimate weight to collect"
   ]
  },
  {
   "cell_type": "code",
   "execution_count": null,
   "metadata": {},
   "outputs": [],
   "source": [
    "# calculate average of estimated sample weight about artemis mission\n",
    "artemis_average = artemis_mission['Estimated sample weight(kg)'].mean()\n",
    "artemis_average"
   ]
  },
  {
   "cell_type": "code",
   "execution_count": null,
   "metadata": {},
   "outputs": [],
   "source": [
    "# estimate weight to collect\n",
    "overview['Weight to collect(kg)'] = artemis_average * overview['Percentage of rocks']\n",
    "overview"
   ]
  },
  {
   "cell_type": "markdown",
   "metadata": {},
   "source": [
    "## estimate amount rocks to collect"
   ]
  },
  {
   "cell_type": "code",
   "execution_count": null,
   "metadata": {},
   "outputs": [],
   "source": [
    "# estimate amount to collect\n",
    "overview['Rocks to collect'] = overview['Weight to collect(kg)'] / overview['Average weight(kg)']\n",
    "overview"
   ]
  }
 ],
 "metadata": {
  "kernelspec": {
   "display_name": "Python 3",
   "language": "python",
   "name": "python3"
  },
  "language_info": {
   "codemirror_mode": {
    "name": "ipython",
    "version": 3
   },
   "file_extension": ".py",
   "mimetype": "text/x-python",
   "name": "python",
   "nbconvert_exporter": "python",
   "pygments_lexer": "ipython3",
   "version": "3.10.13"
  }
 },
 "nbformat": 4,
 "nbformat_minor": 2
}
